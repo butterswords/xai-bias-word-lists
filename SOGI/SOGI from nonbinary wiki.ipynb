{
 "cells": [
  {
   "cell_type": "markdown",
   "id": "69c0abd7-bea4-4209-a2b6-f22cfffcabba",
   "metadata": {},
   "source": [
    "# Preface to the Data Collection\n",
    "I have searched for an expansive word list to help provide coverage for Sexual Orientation and Gender Identity (SOGI) and have not found anything in a useable format. I am a cis-gender, straight, white man in the United States. It's not for me to impose taxonomy on communities so I am going to do what I can to draw from the way community members and reputable organizations speak about them.\n",
    "\n",
    "As such I'm drawing heavily on two sources to start creating word lists:\n",
    "* https://nonbinary.wiki/wiki/Glossary_of_English_gender_and_sex_terminology\n",
    "* https://www.hrc.org/resources/glossary-of-terms"
   ]
  },
  {
   "cell_type": "code",
   "execution_count": 5,
   "id": "e71254c2-fa99-4503-9100-6e945a8ec8ba",
   "metadata": {},
   "outputs": [],
   "source": [
    "import requests, pandas as pd, numpy as np, re, csv\n",
    "from bs4 import BeautifulSoup"
   ]
  },
  {
   "cell_type": "code",
   "execution_count": null,
   "id": "26a1c27a-93cd-46b6-8d0d-160f1cf05cc8",
   "metadata": {},
   "outputs": [],
   "source": []
  }
 ],
 "metadata": {
  "kernelspec": {
   "display_name": "Python 3 (ipykernel)",
   "language": "python",
   "name": "python3"
  },
  "language_info": {
   "codemirror_mode": {
    "name": "ipython",
    "version": 3
   },
   "file_extension": ".py",
   "mimetype": "text/x-python",
   "name": "python",
   "nbconvert_exporter": "python",
   "pygments_lexer": "ipython3",
   "version": "3.8.8"
  }
 },
 "nbformat": 4,
 "nbformat_minor": 5
}
