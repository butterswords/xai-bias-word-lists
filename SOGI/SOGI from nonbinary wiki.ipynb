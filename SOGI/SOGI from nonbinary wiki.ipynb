{
 "cells": [
  {
   "cell_type": "markdown",
   "id": "69c0abd7-bea4-4209-a2b6-f22cfffcabba",
   "metadata": {},
   "source": [
    "# Preface to the Data Collection\n",
    "I have searched for an expansive word list to help provide coverage for Sexual Orientation and Gender Identity (SOGI) and have not found anything in a useable format. I am a cis-gender, straight, white man in the United States. It's not for me to impose taxonomy on communities so I am going to do what I can to draw from the way community members and reputable organizations speak about them.\n",
    "\n",
    "As such I'm drawing heavily on two sources to start creating word lists:\n",
    "* https://nonbinary.wiki/wiki/Glossary_of_English_gender_and_sex_terminology\n",
    "* https://www.hrc.org/resources/glossary-of-terms\n",
    "\n",
    "```bibtex\n",
    " @misc{ wiki:xxx,\n",
    "   author = \"Nonbinary Wiki\",\n",
    "   title = \"Glossary of English gender and sex terminology --- Nonbinary Wiki{,} \",\n",
    "   year = \"2022\",\n",
    "   url = \"https://nonbinary.wiki/w/index.php?title=Glossary_of_English_gender_and_sex_terminology&oldid=32474\",\n",
    "   note = \"[Online; accessed 22-July-2022]\"\n",
    " }\n",
    " ```"
   ]
  },
  {
   "cell_type": "code",
   "execution_count": 1,
   "id": "e71254c2-fa99-4503-9100-6e945a8ec8ba",
   "metadata": {},
   "outputs": [],
   "source": [
    "import requests, pandas as pd, numpy as np, re, csv\n",
    "from bs4 import BeautifulSoup"
   ]
  },
  {
   "cell_type": "code",
   "execution_count": 2,
   "id": "26a1c27a-93cd-46b6-8d0d-160f1cf05cc8",
   "metadata": {},
   "outputs": [],
   "source": [
    "url = \"https://nonbinary.wiki/w/index.php?title=Glossary_of_English_gender_and_sex_terminology&oldid=32474\"\n",
    "page = requests.get(url)"
   ]
  },
  {
   "cell_type": "code",
   "execution_count": 3,
   "id": "cb800df9-97c0-4099-a557-d197b0588d2c",
   "metadata": {},
   "outputs": [],
   "source": [
    "#Removing all of the navigation at the start of the document to focus on the data we care about.\n",
    "pageParts = page.text[page.text.find('<h2>'):]"
   ]
  },
  {
   "cell_type": "code",
   "execution_count": 4,
   "id": "dcdff69b-079e-424c-8cdb-5421be1a6cf7",
   "metadata": {},
   "outputs": [],
   "source": [
    "#Create a soup object by parsing and then get the text as a single block.\n",
    "soup = BeautifulSoup(pageParts, \"html.parser\")\n",
    "text = soup.get_text()\n",
    "#Clean the extra white space.\n",
    "strings = soup.stripped_strings"
   ]
  },
  {
   "cell_type": "code",
   "execution_count": 5,
   "id": "655c82f0-702d-4d30-b013-21714823e7f2",
   "metadata": {},
   "outputs": [],
   "source": [
    "lists = soup.find_all(\"ul\")"
   ]
  },
  {
   "cell_type": "code",
   "execution_count": null,
   "id": "d99bd70d-df1d-4f12-95f5-7c0e7de15d8a",
   "metadata": {},
   "outputs": [],
   "source": [
    "words = {}\n",
    "for list in lists:\n",
    "    items = list.find_all(\"li\")\n",
    "    for item in items:\n",
    "        bolds = tiem.find_all(\"b\")\n",
    "        for bold in bolds:\n",
    "            "
   ]
  },
  {
   "cell_type": "code",
   "execution_count": 6,
   "id": "c83542ab-55ae-49d0-aa38-23fd7f0a31d8",
   "metadata": {},
   "outputs": [
    {
     "data": {
      "text/plain": [
       "243"
      ]
     },
     "execution_count": 6,
     "metadata": {},
     "output_type": "execute_result"
    }
   ],
   "source": [
    "words = []\n",
    "for item in lists:\n",
    "    bold = item.find_all(\"b\")\n",
    "    for text in bold:\n",
    "        string = text.string\n",
    "        if string is not None:\n",
    "            results = re.sub('(\\.|\\,)', '', string)\n",
    "            if results.lower() not in words and results != '':\n",
    "                words.append(results)\n",
    "                #print(results) #for QA\n",
    "        else:\n",
    "            for t in text.children:\n",
    "                if t.string is not None:\n",
    "                    results = re.sub('(\\.|\\,)', '', t.string)\n",
    "                    if results not in words and results != '':\n",
    "                        words.append(results)\n",
    "                    \n",
    "len(words)"
   ]
  },
  {
   "cell_type": "code",
   "execution_count": 7,
   "id": "65718309-8e86-47d4-87c6-b81b8b9e4520",
   "metadata": {},
   "outputs": [
    {
     "data": {
      "text/plain": [
       "True"
      ]
     },
     "execution_count": 7,
     "metadata": {},
     "output_type": "execute_result"
    }
   ],
   "source": [
    "\"CAGAB\" in words"
   ]
  },
  {
   "cell_type": "code",
   "execution_count": 8,
   "id": "189fd054-d5c3-4411-bc53-07a1bad21c96",
   "metadata": {},
   "outputs": [],
   "source": [
    "context = []\n",
    "for item in lists:\n",
    "    for l in item.find_all(\"li\"):\n",
    "        current = []\n",
    "        for desc in l.children:\n",
    "            if desc.string is None:\n",
    "                for n in desc.children:\n",
    "                    if n.string is not None:\n",
    "                        #c = re.sub(\"(\\.|\\,)\",\"\",n.string)\n",
    "                        current.append(n.string)\n",
    "            else:\n",
    "                #d = re.sub(\"(\\.|\\,)\",\"\",desc.string)\n",
    "                current.append(desc.string)\n",
    "        #print(current)\n",
    "        if len(current) > 1:\n",
    "            full = \" \".join(current)\n",
    "            mid = re.sub(\" \\. \", \". \", full)\n",
    "            clean = \" \".join(mid.split())\n",
    "            #print(mid)\n",
    "            if any(word in clean for word in words) and (\".\" in clean):\n",
    "                context.append(clean)\n",
    "            elif any(word in clean.split() for word in words):\n",
    "                context.append(clean)\n",
    "                #print(\"---> \" + clean)"
   ]
  },
  {
   "cell_type": "code",
   "execution_count": 9,
   "id": "6816230d-b360-4df1-9a63-6328ba9359bd",
   "metadata": {},
   "outputs": [
    {
     "name": "stdout",
     "output_type": "stream",
     "text": [
      "words: 243\n",
      "context: 214\n"
     ]
    }
   ],
   "source": [
    "print(f\"words: {len(words)}\")\n",
    "print(f\"context: {len(context)}\")"
   ]
  },
  {
   "cell_type": "code",
   "execution_count": 26,
   "id": "bb076129-2e50-454f-a988-33a82a5d243d",
   "metadata": {},
   "outputs": [
    {
     "name": "stdout",
     "output_type": "stream",
     "text": [
      "243 243\n"
     ]
    }
   ],
   "source": [
    "terms = []\n",
    "texts = []\n",
    "#outliers = [\"polyromantic\", \"polysexual\", \"NBY\", \"em eir eirs eirself\"]\n",
    "for word in words:\n",
    "    for entry in context:\n",
    "        if (word == entry[:len(word)]) and (word not in terms):\n",
    "            terms.append(word)\n",
    "            texts.append(entry)\n",
    "        elif \".\" in entry:\n",
    "            if word in entry[:entry.index(\".\")].split():\n",
    "                if (word not in terms):\n",
    "                    terms.append(word)\n",
    "                    texts.append(entry)\n",
    "            else:\n",
    "                if (word not in terms) and (entry not in texts):\n",
    "                    terms.append(word)\n",
    "                    texts.append(entry)\n",
    "                \n",
    "print(len(terms), len(texts))"
   ]
  },
  {
   "cell_type": "code",
   "execution_count": 325,
   "id": "8e3ab006-9af3-491a-989c-565f7e0b29cb",
   "metadata": {},
   "outputs": [],
   "source": [
    "gender = pd.DataFrame(list(zip(terms, texts)), columns =['Words', 'Context'])"
   ]
  },
  {
   "cell_type": "code",
   "execution_count": 326,
   "id": "c56a8ae9-c562-4d08-9790-81a70137b00e",
   "metadata": {},
   "outputs": [],
   "source": [
    "missing = []\n",
    "for word in words:\n",
    "    if word in gender[\"Words\"].tolist():\n",
    "        continue\n",
    "    else:\n",
    "        missing.append(word)"
   ]
  },
  {
   "cell_type": "code",
   "execution_count": 327,
   "id": "148906dc-f448-4000-a2b3-440d113ded3c",
   "metadata": {},
   "outputs": [
    {
     "data": {
      "text/plain": [
       "0"
      ]
     },
     "execution_count": 327,
     "metadata": {},
     "output_type": "execute_result"
    }
   ],
   "source": [
    "len(missing)"
   ]
  },
  {
   "cell_type": "code",
   "execution_count": 328,
   "id": "e6c15611-e707-43a7-9796-85149698a44d",
   "metadata": {},
   "outputs": [
    {
     "data": {
      "text/html": [
       "<div>\n",
       "<style scoped>\n",
       "    .dataframe tbody tr th:only-of-type {\n",
       "        vertical-align: middle;\n",
       "    }\n",
       "\n",
       "    .dataframe tbody tr th {\n",
       "        vertical-align: top;\n",
       "    }\n",
       "\n",
       "    .dataframe thead th {\n",
       "        text-align: right;\n",
       "    }\n",
       "</style>\n",
       "<table border=\"1\" class=\"dataframe\">\n",
       "  <thead>\n",
       "    <tr style=\"text-align: right;\">\n",
       "      <th></th>\n",
       "      <th>Words</th>\n",
       "      <th>Context</th>\n",
       "    </tr>\n",
       "  </thead>\n",
       "  <tbody>\n",
       "    <tr>\n",
       "      <th>0</th>\n",
       "      <td>ace</td>\n",
       "      <td>ace. Short for asexual, which see. [1]</td>\n",
       "    </tr>\n",
       "    <tr>\n",
       "      <th>1</th>\n",
       "      <td>AGAB</td>\n",
       "      <td>AGAB. Assigned gender at birth. Most people ar...</td>\n",
       "    </tr>\n",
       "    <tr>\n",
       "      <th>2</th>\n",
       "      <td>AFAB</td>\n",
       "      <td>AFAB. See AGAB.</td>\n",
       "    </tr>\n",
       "    <tr>\n",
       "      <th>3</th>\n",
       "      <td>agender</td>\n",
       "      <td>agender. A nonbinary identity. 1. Some who cal...</td>\n",
       "    </tr>\n",
       "    <tr>\n",
       "      <th>4</th>\n",
       "      <td>altersex</td>\n",
       "      <td>altersex. Describes people or fictional charac...</td>\n",
       "    </tr>\n",
       "  </tbody>\n",
       "</table>\n",
       "</div>"
      ],
      "text/plain": [
       "      Words                                            Context\n",
       "0       ace             ace. Short for asexual, which see. [1]\n",
       "1      AGAB  AGAB. Assigned gender at birth. Most people ar...\n",
       "2      AFAB                                    AFAB. See AGAB.\n",
       "3   agender  agender. A nonbinary identity. 1. Some who cal...\n",
       "4  altersex  altersex. Describes people or fictional charac..."
      ]
     },
     "execution_count": 328,
     "metadata": {},
     "output_type": "execute_result"
    }
   ],
   "source": [
    "gender.head()"
   ]
  },
  {
   "cell_type": "code",
   "execution_count": 329,
   "id": "a099d8ff-6d94-4bad-b74e-5701881f4c4c",
   "metadata": {},
   "outputs": [],
   "source": [
    "#gender.drop(index = 0, inplace = True)\n",
    "#gender.reset_index(inplace=True)\n",
    "#gender.drop(columns=[\"index\"], inplace=True)"
   ]
  },
  {
   "cell_type": "code",
   "execution_count": 330,
   "id": "ae2c4898-91ff-4b93-9d5b-12a9f48dc719",
   "metadata": {},
   "outputs": [
    {
     "data": {
      "text/html": [
       "<div>\n",
       "<style scoped>\n",
       "    .dataframe tbody tr th:only-of-type {\n",
       "        vertical-align: middle;\n",
       "    }\n",
       "\n",
       "    .dataframe tbody tr th {\n",
       "        vertical-align: top;\n",
       "    }\n",
       "\n",
       "    .dataframe thead th {\n",
       "        text-align: right;\n",
       "    }\n",
       "</style>\n",
       "<table border=\"1\" class=\"dataframe\">\n",
       "  <thead>\n",
       "    <tr style=\"text-align: right;\">\n",
       "      <th></th>\n",
       "      <th>Words</th>\n",
       "      <th>Context</th>\n",
       "    </tr>\n",
       "  </thead>\n",
       "  <tbody>\n",
       "    <tr>\n",
       "      <th>0</th>\n",
       "      <td>ace</td>\n",
       "      <td>ace. Short for asexual, which see. [1]</td>\n",
       "    </tr>\n",
       "    <tr>\n",
       "      <th>1</th>\n",
       "      <td>AGAB</td>\n",
       "      <td>AGAB. Assigned gender at birth. Most people ar...</td>\n",
       "    </tr>\n",
       "    <tr>\n",
       "      <th>2</th>\n",
       "      <td>AFAB</td>\n",
       "      <td>AFAB. See AGAB.</td>\n",
       "    </tr>\n",
       "    <tr>\n",
       "      <th>3</th>\n",
       "      <td>agender</td>\n",
       "      <td>agender. A nonbinary identity. 1. Some who cal...</td>\n",
       "    </tr>\n",
       "    <tr>\n",
       "      <th>4</th>\n",
       "      <td>altersex</td>\n",
       "      <td>altersex. Describes people or fictional charac...</td>\n",
       "    </tr>\n",
       "  </tbody>\n",
       "</table>\n",
       "</div>"
      ],
      "text/plain": [
       "      Words                                            Context\n",
       "0       ace             ace. Short for asexual, which see. [1]\n",
       "1      AGAB  AGAB. Assigned gender at birth. Most people ar...\n",
       "2      AFAB                                    AFAB. See AGAB.\n",
       "3   agender  agender. A nonbinary identity. 1. Some who cal...\n",
       "4  altersex  altersex. Describes people or fictional charac..."
      ]
     },
     "execution_count": 330,
     "metadata": {},
     "output_type": "execute_result"
    }
   ],
   "source": [
    "gender.head()"
   ]
  },
  {
   "cell_type": "code",
   "execution_count": 331,
   "id": "28904a8d-df79-47e4-8cb2-0c4bda71b60a",
   "metadata": {},
   "outputs": [],
   "source": [
    "gender.to_csv(\"nonbinary-wiki-gender-terms.csv\", index=False)"
   ]
  },
  {
   "cell_type": "code",
   "execution_count": null,
   "id": "92e58a22-fac9-40f0-b0eb-5d0f96acc098",
   "metadata": {},
   "outputs": [],
   "source": []
  }
 ],
 "metadata": {
  "kernelspec": {
   "display_name": "Python 3 (ipykernel)",
   "language": "python",
   "name": "python3"
  },
  "language_info": {
   "codemirror_mode": {
    "name": "ipython",
    "version": 3
   },
   "file_extension": ".py",
   "mimetype": "text/x-python",
   "name": "python",
   "nbconvert_exporter": "python",
   "pygments_lexer": "ipython3",
   "version": "3.8.8"
  }
 },
 "nbformat": 4,
 "nbformat_minor": 5
}
