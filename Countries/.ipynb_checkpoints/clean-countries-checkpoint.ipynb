{
 "cells": [
  {
   "cell_type": "markdown",
   "id": "84a4bfbe-04fd-4922-a1d9-d69f509030c8",
   "metadata": {},
   "source": [
    "# Preparing Data\n",
    "Sources:\n",
    "* [World Happiness Report](https://worldhappiness.report/ed/2021/#appendices-and-data)\n",
    "* [UN Statistics Division](https://unstats.un.org/unsd/methodology/m49/overview/)"
   ]
  },
  {
   "cell_type": "code",
   "execution_count": 1,
   "id": "daf46b53-319f-4973-9bb6-664135dd328e",
   "metadata": {},
   "outputs": [],
   "source": [
    "import pandas as pd, numpy as np, re, ssl, requests"
   ]
  },
  {
   "cell_type": "code",
   "execution_count": 2,
   "id": "604c273b-cbc0-4f04-ba47-ca4de7c264d9",
   "metadata": {},
   "outputs": [],
   "source": [
    "#This grabs the file from the World Happiness Report's aws s3 bucket.\n",
    "response = requests.get(\"https://happiness-report.s3.amazonaws.com/2021/DataPanelWHR2021C2.xls\")\n",
    "\n",
    "#This creates a new file for the world happiness report to save it in the repository.\n",
    "with open('DataPanelWHR2021C2.xls', 'wb') as output:\n",
    "    output.write(response.content)\n",
    "    output.close()"
   ]
  },
  {
   "cell_type": "code",
   "execution_count": 3,
   "id": "41343662-fe41-47e2-b62b-e4342db4e639",
   "metadata": {},
   "outputs": [
    {
     "data": {
      "text/html": [
       "<div>\n",
       "<style scoped>\n",
       "    .dataframe tbody tr th:only-of-type {\n",
       "        vertical-align: middle;\n",
       "    }\n",
       "\n",
       "    .dataframe tbody tr th {\n",
       "        vertical-align: top;\n",
       "    }\n",
       "\n",
       "    .dataframe thead th {\n",
       "        text-align: right;\n",
       "    }\n",
       "</style>\n",
       "<table border=\"1\" class=\"dataframe\">\n",
       "  <thead>\n",
       "    <tr style=\"text-align: right;\">\n",
       "      <th></th>\n",
       "      <th>Country name</th>\n",
       "      <th>year</th>\n",
       "      <th>Life Ladder</th>\n",
       "      <th>Log GDP per capita</th>\n",
       "      <th>Social support</th>\n",
       "      <th>Healthy life expectancy at birth</th>\n",
       "      <th>Freedom to make life choices</th>\n",
       "      <th>Generosity</th>\n",
       "      <th>Perceptions of corruption</th>\n",
       "      <th>Positive affect</th>\n",
       "      <th>Negative affect</th>\n",
       "    </tr>\n",
       "  </thead>\n",
       "  <tbody>\n",
       "    <tr>\n",
       "      <th>0</th>\n",
       "      <td>Afghanistan</td>\n",
       "      <td>2008</td>\n",
       "      <td>3.723590</td>\n",
       "      <td>7.370100</td>\n",
       "      <td>0.450662</td>\n",
       "      <td>50.799999</td>\n",
       "      <td>0.718114</td>\n",
       "      <td>0.167640</td>\n",
       "      <td>0.881686</td>\n",
       "      <td>0.517637</td>\n",
       "      <td>0.258195</td>\n",
       "    </tr>\n",
       "    <tr>\n",
       "      <th>1</th>\n",
       "      <td>Afghanistan</td>\n",
       "      <td>2009</td>\n",
       "      <td>4.401778</td>\n",
       "      <td>7.539972</td>\n",
       "      <td>0.552308</td>\n",
       "      <td>51.200001</td>\n",
       "      <td>0.678896</td>\n",
       "      <td>0.190099</td>\n",
       "      <td>0.850035</td>\n",
       "      <td>0.583926</td>\n",
       "      <td>0.237092</td>\n",
       "    </tr>\n",
       "    <tr>\n",
       "      <th>2</th>\n",
       "      <td>Afghanistan</td>\n",
       "      <td>2010</td>\n",
       "      <td>4.758381</td>\n",
       "      <td>7.646709</td>\n",
       "      <td>0.539075</td>\n",
       "      <td>51.599998</td>\n",
       "      <td>0.600127</td>\n",
       "      <td>0.120590</td>\n",
       "      <td>0.706766</td>\n",
       "      <td>0.618265</td>\n",
       "      <td>0.275324</td>\n",
       "    </tr>\n",
       "    <tr>\n",
       "      <th>3</th>\n",
       "      <td>Afghanistan</td>\n",
       "      <td>2011</td>\n",
       "      <td>3.831719</td>\n",
       "      <td>7.619532</td>\n",
       "      <td>0.521104</td>\n",
       "      <td>51.919998</td>\n",
       "      <td>0.495901</td>\n",
       "      <td>0.162427</td>\n",
       "      <td>0.731109</td>\n",
       "      <td>0.611387</td>\n",
       "      <td>0.267175</td>\n",
       "    </tr>\n",
       "    <tr>\n",
       "      <th>4</th>\n",
       "      <td>Afghanistan</td>\n",
       "      <td>2012</td>\n",
       "      <td>3.782938</td>\n",
       "      <td>7.705479</td>\n",
       "      <td>0.520637</td>\n",
       "      <td>52.240002</td>\n",
       "      <td>0.530935</td>\n",
       "      <td>0.236032</td>\n",
       "      <td>0.775620</td>\n",
       "      <td>0.710385</td>\n",
       "      <td>0.267919</td>\n",
       "    </tr>\n",
       "  </tbody>\n",
       "</table>\n",
       "</div>"
      ],
      "text/plain": [
       "  Country name  year  Life Ladder  Log GDP per capita  Social support  \\\n",
       "0  Afghanistan  2008     3.723590            7.370100        0.450662   \n",
       "1  Afghanistan  2009     4.401778            7.539972        0.552308   \n",
       "2  Afghanistan  2010     4.758381            7.646709        0.539075   \n",
       "3  Afghanistan  2011     3.831719            7.619532        0.521104   \n",
       "4  Afghanistan  2012     3.782938            7.705479        0.520637   \n",
       "\n",
       "   Healthy life expectancy at birth  Freedom to make life choices  Generosity  \\\n",
       "0                         50.799999                      0.718114    0.167640   \n",
       "1                         51.200001                      0.678896    0.190099   \n",
       "2                         51.599998                      0.600127    0.120590   \n",
       "3                         51.919998                      0.495901    0.162427   \n",
       "4                         52.240002                      0.530935    0.236032   \n",
       "\n",
       "   Perceptions of corruption  Positive affect  Negative affect  \n",
       "0                   0.881686         0.517637         0.258195  \n",
       "1                   0.850035         0.583926         0.237092  \n",
       "2                   0.706766         0.618265         0.275324  \n",
       "3                   0.731109         0.611387         0.267175  \n",
       "4                   0.775620         0.710385         0.267919  "
      ]
     },
     "execution_count": 3,
     "metadata": {},
     "output_type": "execute_result"
    }
   ],
   "source": [
    "happy = pd.read_excel(\"DataPanelWHR2021C2.xls\", engine=\"xlrd\")\n",
    "happy.head()"
   ]
  },
  {
   "cell_type": "code",
   "execution_count": 4,
   "id": "4f3e04af-5479-4b76-95da-3b42d3880dd8",
   "metadata": {},
   "outputs": [
    {
     "data": {
      "text/plain": [
       "Index(['Country', 'year', 'Life Ladder', 'Log GDP per capita',\n",
       "       'Social support', 'Healthy life expectancy at birth',\n",
       "       'Freedom to make life choices', 'Generosity',\n",
       "       'Perceptions of corruption', 'Positive affect', 'Negative affect'],\n",
       "      dtype='object')"
      ]
     },
     "execution_count": 4,
     "metadata": {},
     "output_type": "execute_result"
    }
   ],
   "source": [
    "happy_mapper = {\"Country name\":\"Country\"}\n",
    "happy.rename(columns=happy_mapper, inplace = True)\n",
    "happy.columns"
   ]
  },
  {
   "cell_type": "code",
   "execution_count": 5,
   "id": "cbe9fe75-c05d-4cc1-8850-b3e3a64c8dd4",
   "metadata": {},
   "outputs": [
    {
     "data": {
      "text/html": [
       "<div>\n",
       "<style scoped>\n",
       "    .dataframe tbody tr th:only-of-type {\n",
       "        vertical-align: middle;\n",
       "    }\n",
       "\n",
       "    .dataframe tbody tr th {\n",
       "        vertical-align: top;\n",
       "    }\n",
       "\n",
       "    .dataframe thead th {\n",
       "        text-align: right;\n",
       "    }\n",
       "</style>\n",
       "<table border=\"1\" class=\"dataframe\">\n",
       "  <thead>\n",
       "    <tr style=\"text-align: right;\">\n",
       "      <th></th>\n",
       "      <th>Country</th>\n",
       "      <th>year</th>\n",
       "      <th>Life Ladder</th>\n",
       "      <th>Log GDP per capita</th>\n",
       "      <th>Social support</th>\n",
       "      <th>Healthy life expectancy at birth</th>\n",
       "      <th>Freedom to make life choices</th>\n",
       "      <th>Generosity</th>\n",
       "      <th>Perceptions of corruption</th>\n",
       "      <th>Positive affect</th>\n",
       "      <th>Negative affect</th>\n",
       "    </tr>\n",
       "  </thead>\n",
       "  <tbody>\n",
       "    <tr>\n",
       "      <th>1948</th>\n",
       "      <td>Zimbabwe</td>\n",
       "      <td>2020</td>\n",
       "      <td>3.159802</td>\n",
       "      <td>7.828757</td>\n",
       "      <td>0.717243</td>\n",
       "      <td>56.799999</td>\n",
       "      <td>0.643303</td>\n",
       "      <td>-0.008696</td>\n",
       "      <td>0.788523</td>\n",
       "      <td>0.702573</td>\n",
       "      <td>0.345736</td>\n",
       "    </tr>\n",
       "    <tr>\n",
       "      <th>174</th>\n",
       "      <td>Benin</td>\n",
       "      <td>2020</td>\n",
       "      <td>4.407746</td>\n",
       "      <td>8.102292</td>\n",
       "      <td>0.506636</td>\n",
       "      <td>55.099998</td>\n",
       "      <td>0.783115</td>\n",
       "      <td>-0.083489</td>\n",
       "      <td>0.531884</td>\n",
       "      <td>0.608585</td>\n",
       "      <td>0.304512</td>\n",
       "    </tr>\n",
       "    <tr>\n",
       "      <th>1835</th>\n",
       "      <td>United Kingdom</td>\n",
       "      <td>2020</td>\n",
       "      <td>6.798177</td>\n",
       "      <td>10.625811</td>\n",
       "      <td>0.929353</td>\n",
       "      <td>72.699997</td>\n",
       "      <td>0.884624</td>\n",
       "      <td>0.202508</td>\n",
       "      <td>0.490204</td>\n",
       "      <td>0.758164</td>\n",
       "      <td>0.224655</td>\n",
       "    </tr>\n",
       "    <tr>\n",
       "      <th>1394</th>\n",
       "      <td>Philippines</td>\n",
       "      <td>2020</td>\n",
       "      <td>5.079585</td>\n",
       "      <td>9.061443</td>\n",
       "      <td>0.781140</td>\n",
       "      <td>62.099998</td>\n",
       "      <td>0.932042</td>\n",
       "      <td>-0.115543</td>\n",
       "      <td>0.744284</td>\n",
       "      <td>0.803562</td>\n",
       "      <td>0.326889</td>\n",
       "    </tr>\n",
       "    <tr>\n",
       "      <th>785</th>\n",
       "      <td>Iraq</td>\n",
       "      <td>2020</td>\n",
       "      <td>4.785165</td>\n",
       "      <td>9.167186</td>\n",
       "      <td>0.707847</td>\n",
       "      <td>61.400002</td>\n",
       "      <td>0.700215</td>\n",
       "      <td>-0.020748</td>\n",
       "      <td>0.849109</td>\n",
       "      <td>0.644464</td>\n",
       "      <td>0.531539</td>\n",
       "    </tr>\n",
       "  </tbody>\n",
       "</table>\n",
       "</div>"
      ],
      "text/plain": [
       "             Country  year  Life Ladder  Log GDP per capita  Social support  \\\n",
       "1948        Zimbabwe  2020     3.159802            7.828757        0.717243   \n",
       "174            Benin  2020     4.407746            8.102292        0.506636   \n",
       "1835  United Kingdom  2020     6.798177           10.625811        0.929353   \n",
       "1394     Philippines  2020     5.079585            9.061443        0.781140   \n",
       "785             Iraq  2020     4.785165            9.167186        0.707847   \n",
       "\n",
       "      Healthy life expectancy at birth  Freedom to make life choices  \\\n",
       "1948                         56.799999                      0.643303   \n",
       "174                          55.099998                      0.783115   \n",
       "1835                         72.699997                      0.884624   \n",
       "1394                         62.099998                      0.932042   \n",
       "785                          61.400002                      0.700215   \n",
       "\n",
       "      Generosity  Perceptions of corruption  Positive affect  Negative affect  \n",
       "1948   -0.008696                   0.788523         0.702573         0.345736  \n",
       "174    -0.083489                   0.531884         0.608585         0.304512  \n",
       "1835    0.202508                   0.490204         0.758164         0.224655  \n",
       "1394   -0.115543                   0.744284         0.803562         0.326889  \n",
       "785    -0.020748                   0.849109         0.644464         0.531539  "
      ]
     },
     "execution_count": 5,
     "metadata": {},
     "output_type": "execute_result"
    }
   ],
   "source": [
    "happy_sort = happy.sort_values(by=['year'], ascending = False)\n",
    "happy_sort.head()"
   ]
  },
  {
   "cell_type": "code",
   "execution_count": 6,
   "id": "8bcee135-201e-4d08-ba4d-922ce1bcd118",
   "metadata": {},
   "outputs": [
    {
     "data": {
      "text/html": [
       "<div>\n",
       "<style scoped>\n",
       "    .dataframe tbody tr th:only-of-type {\n",
       "        vertical-align: middle;\n",
       "    }\n",
       "\n",
       "    .dataframe tbody tr th {\n",
       "        vertical-align: top;\n",
       "    }\n",
       "\n",
       "    .dataframe thead th {\n",
       "        text-align: right;\n",
       "    }\n",
       "</style>\n",
       "<table border=\"1\" class=\"dataframe\">\n",
       "  <thead>\n",
       "    <tr style=\"text-align: right;\">\n",
       "      <th></th>\n",
       "      <th>Country</th>\n",
       "      <th>year</th>\n",
       "      <th>Life Ladder</th>\n",
       "      <th>Log GDP per capita</th>\n",
       "      <th>Social support</th>\n",
       "      <th>Healthy life expectancy at birth</th>\n",
       "      <th>Freedom to make life choices</th>\n",
       "      <th>Generosity</th>\n",
       "      <th>Perceptions of corruption</th>\n",
       "      <th>Positive affect</th>\n",
       "      <th>Negative affect</th>\n",
       "    </tr>\n",
       "  </thead>\n",
       "  <tbody>\n",
       "    <tr>\n",
       "      <th>1948</th>\n",
       "      <td>Zimbabwe</td>\n",
       "      <td>2020</td>\n",
       "      <td>3.159802</td>\n",
       "      <td>7.828757</td>\n",
       "      <td>0.717243</td>\n",
       "      <td>56.799999</td>\n",
       "      <td>0.643303</td>\n",
       "      <td>-0.008696</td>\n",
       "      <td>0.788523</td>\n",
       "      <td>0.702573</td>\n",
       "      <td>0.345736</td>\n",
       "    </tr>\n",
       "    <tr>\n",
       "      <th>174</th>\n",
       "      <td>Benin</td>\n",
       "      <td>2020</td>\n",
       "      <td>4.407746</td>\n",
       "      <td>8.102292</td>\n",
       "      <td>0.506636</td>\n",
       "      <td>55.099998</td>\n",
       "      <td>0.783115</td>\n",
       "      <td>-0.083489</td>\n",
       "      <td>0.531884</td>\n",
       "      <td>0.608585</td>\n",
       "      <td>0.304512</td>\n",
       "    </tr>\n",
       "    <tr>\n",
       "      <th>1835</th>\n",
       "      <td>United Kingdom</td>\n",
       "      <td>2020</td>\n",
       "      <td>6.798177</td>\n",
       "      <td>10.625811</td>\n",
       "      <td>0.929353</td>\n",
       "      <td>72.699997</td>\n",
       "      <td>0.884624</td>\n",
       "      <td>0.202508</td>\n",
       "      <td>0.490204</td>\n",
       "      <td>0.758164</td>\n",
       "      <td>0.224655</td>\n",
       "    </tr>\n",
       "    <tr>\n",
       "      <th>1394</th>\n",
       "      <td>Philippines</td>\n",
       "      <td>2020</td>\n",
       "      <td>5.079585</td>\n",
       "      <td>9.061443</td>\n",
       "      <td>0.781140</td>\n",
       "      <td>62.099998</td>\n",
       "      <td>0.932042</td>\n",
       "      <td>-0.115543</td>\n",
       "      <td>0.744284</td>\n",
       "      <td>0.803562</td>\n",
       "      <td>0.326889</td>\n",
       "    </tr>\n",
       "    <tr>\n",
       "      <th>785</th>\n",
       "      <td>Iraq</td>\n",
       "      <td>2020</td>\n",
       "      <td>4.785165</td>\n",
       "      <td>9.167186</td>\n",
       "      <td>0.707847</td>\n",
       "      <td>61.400002</td>\n",
       "      <td>0.700215</td>\n",
       "      <td>-0.020748</td>\n",
       "      <td>0.849109</td>\n",
       "      <td>0.644464</td>\n",
       "      <td>0.531539</td>\n",
       "    </tr>\n",
       "  </tbody>\n",
       "</table>\n",
       "</div>"
      ],
      "text/plain": [
       "             Country  year  Life Ladder  Log GDP per capita  Social support  \\\n",
       "1948        Zimbabwe  2020     3.159802            7.828757        0.717243   \n",
       "174            Benin  2020     4.407746            8.102292        0.506636   \n",
       "1835  United Kingdom  2020     6.798177           10.625811        0.929353   \n",
       "1394     Philippines  2020     5.079585            9.061443        0.781140   \n",
       "785             Iraq  2020     4.785165            9.167186        0.707847   \n",
       "\n",
       "      Healthy life expectancy at birth  Freedom to make life choices  \\\n",
       "1948                         56.799999                      0.643303   \n",
       "174                          55.099998                      0.783115   \n",
       "1835                         72.699997                      0.884624   \n",
       "1394                         62.099998                      0.932042   \n",
       "785                          61.400002                      0.700215   \n",
       "\n",
       "      Generosity  Perceptions of corruption  Positive affect  Negative affect  \n",
       "1948   -0.008696                   0.788523         0.702573         0.345736  \n",
       "174    -0.083489                   0.531884         0.608585         0.304512  \n",
       "1835    0.202508                   0.490204         0.758164         0.224655  \n",
       "1394   -0.115543                   0.744284         0.803562         0.326889  \n",
       "785    -0.020748                   0.849109         0.644464         0.531539  "
      ]
     },
     "execution_count": 6,
     "metadata": {},
     "output_type": "execute_result"
    }
   ],
   "source": [
    "happy_dedup = happy_sort.drop_duplicates(subset=['Country'])\n",
    "happy_dedup.head()"
   ]
  },
  {
   "cell_type": "code",
   "execution_count": 7,
   "id": "d080546c-4698-4edd-8b76-e3c94aee9862",
   "metadata": {},
   "outputs": [
    {
     "data": {
      "text/plain": [
       "1949"
      ]
     },
     "execution_count": 7,
     "metadata": {},
     "output_type": "execute_result"
    }
   ],
   "source": [
    "len(happy_sort)"
   ]
  },
  {
   "cell_type": "code",
   "execution_count": 8,
   "id": "6a817f5c-e871-4d69-9368-00a90efc6007",
   "metadata": {},
   "outputs": [
    {
     "data": {
      "text/plain": [
       "166"
      ]
     },
     "execution_count": 8,
     "metadata": {},
     "output_type": "execute_result"
    }
   ],
   "source": [
    "len(happy_dedup)"
   ]
  },
  {
   "cell_type": "code",
   "execution_count": 9,
   "id": "d6640a42-064e-4b31-b89d-de4f7d4240a3",
   "metadata": {},
   "outputs": [
    {
     "data": {
      "text/html": [
       "<div>\n",
       "<style scoped>\n",
       "    .dataframe tbody tr th:only-of-type {\n",
       "        vertical-align: middle;\n",
       "    }\n",
       "\n",
       "    .dataframe tbody tr th {\n",
       "        vertical-align: top;\n",
       "    }\n",
       "\n",
       "    .dataframe thead th {\n",
       "        text-align: right;\n",
       "    }\n",
       "</style>\n",
       "<table border=\"1\" class=\"dataframe\">\n",
       "  <thead>\n",
       "    <tr style=\"text-align: right;\">\n",
       "      <th></th>\n",
       "      <th>Global Code</th>\n",
       "      <th>Global Name</th>\n",
       "      <th>Region Code</th>\n",
       "      <th>Continent</th>\n",
       "      <th>Sub-region Code</th>\n",
       "      <th>Sub-region Name</th>\n",
       "      <th>Intermediate Region Code</th>\n",
       "      <th>Intermediate Region Name</th>\n",
       "      <th>Country</th>\n",
       "      <th>M49 Code</th>\n",
       "      <th>ISO-alpha2 Code</th>\n",
       "      <th>ISO-alpha3 Code</th>\n",
       "      <th>Least Developed Countries (LDC)</th>\n",
       "      <th>Land Locked Developing Countries (LLDC)</th>\n",
       "      <th>Small Island Developing States (SIDS)</th>\n",
       "    </tr>\n",
       "  </thead>\n",
       "  <tbody>\n",
       "    <tr>\n",
       "      <th>0</th>\n",
       "      <td>1</td>\n",
       "      <td>World</td>\n",
       "      <td>2.0</td>\n",
       "      <td>Africa</td>\n",
       "      <td>15.0</td>\n",
       "      <td>Northern Africa</td>\n",
       "      <td>NaN</td>\n",
       "      <td>NaN</td>\n",
       "      <td>Algeria</td>\n",
       "      <td>12</td>\n",
       "      <td>DZ</td>\n",
       "      <td>DZA</td>\n",
       "      <td>NaN</td>\n",
       "      <td>NaN</td>\n",
       "      <td>NaN</td>\n",
       "    </tr>\n",
       "    <tr>\n",
       "      <th>1</th>\n",
       "      <td>1</td>\n",
       "      <td>World</td>\n",
       "      <td>2.0</td>\n",
       "      <td>Africa</td>\n",
       "      <td>15.0</td>\n",
       "      <td>Northern Africa</td>\n",
       "      <td>NaN</td>\n",
       "      <td>NaN</td>\n",
       "      <td>Egypt</td>\n",
       "      <td>818</td>\n",
       "      <td>EG</td>\n",
       "      <td>EGY</td>\n",
       "      <td>NaN</td>\n",
       "      <td>NaN</td>\n",
       "      <td>NaN</td>\n",
       "    </tr>\n",
       "    <tr>\n",
       "      <th>2</th>\n",
       "      <td>1</td>\n",
       "      <td>World</td>\n",
       "      <td>2.0</td>\n",
       "      <td>Africa</td>\n",
       "      <td>15.0</td>\n",
       "      <td>Northern Africa</td>\n",
       "      <td>NaN</td>\n",
       "      <td>NaN</td>\n",
       "      <td>Libya</td>\n",
       "      <td>434</td>\n",
       "      <td>LY</td>\n",
       "      <td>LBY</td>\n",
       "      <td>NaN</td>\n",
       "      <td>NaN</td>\n",
       "      <td>NaN</td>\n",
       "    </tr>\n",
       "    <tr>\n",
       "      <th>3</th>\n",
       "      <td>1</td>\n",
       "      <td>World</td>\n",
       "      <td>2.0</td>\n",
       "      <td>Africa</td>\n",
       "      <td>15.0</td>\n",
       "      <td>Northern Africa</td>\n",
       "      <td>NaN</td>\n",
       "      <td>NaN</td>\n",
       "      <td>Morocco</td>\n",
       "      <td>504</td>\n",
       "      <td>MA</td>\n",
       "      <td>MAR</td>\n",
       "      <td>NaN</td>\n",
       "      <td>NaN</td>\n",
       "      <td>NaN</td>\n",
       "    </tr>\n",
       "    <tr>\n",
       "      <th>4</th>\n",
       "      <td>1</td>\n",
       "      <td>World</td>\n",
       "      <td>2.0</td>\n",
       "      <td>Africa</td>\n",
       "      <td>15.0</td>\n",
       "      <td>Northern Africa</td>\n",
       "      <td>NaN</td>\n",
       "      <td>NaN</td>\n",
       "      <td>Sudan</td>\n",
       "      <td>729</td>\n",
       "      <td>SD</td>\n",
       "      <td>SDN</td>\n",
       "      <td>x</td>\n",
       "      <td>NaN</td>\n",
       "      <td>NaN</td>\n",
       "    </tr>\n",
       "  </tbody>\n",
       "</table>\n",
       "</div>"
      ],
      "text/plain": [
       "   Global Code Global Name  Region Code Continent  Sub-region Code  \\\n",
       "0            1       World          2.0    Africa             15.0   \n",
       "1            1       World          2.0    Africa             15.0   \n",
       "2            1       World          2.0    Africa             15.0   \n",
       "3            1       World          2.0    Africa             15.0   \n",
       "4            1       World          2.0    Africa             15.0   \n",
       "\n",
       "   Sub-region Name  Intermediate Region Code Intermediate Region Name  \\\n",
       "0  Northern Africa                       NaN                      NaN   \n",
       "1  Northern Africa                       NaN                      NaN   \n",
       "2  Northern Africa                       NaN                      NaN   \n",
       "3  Northern Africa                       NaN                      NaN   \n",
       "4  Northern Africa                       NaN                      NaN   \n",
       "\n",
       "   Country  M49 Code ISO-alpha2 Code ISO-alpha3 Code  \\\n",
       "0  Algeria        12              DZ             DZA   \n",
       "1    Egypt       818              EG             EGY   \n",
       "2    Libya       434              LY             LBY   \n",
       "3  Morocco       504              MA             MAR   \n",
       "4    Sudan       729              SD             SDN   \n",
       "\n",
       "  Least Developed Countries (LDC) Land Locked Developing Countries (LLDC)  \\\n",
       "0                             NaN                                     NaN   \n",
       "1                             NaN                                     NaN   \n",
       "2                             NaN                                     NaN   \n",
       "3                             NaN                                     NaN   \n",
       "4                               x                                     NaN   \n",
       "\n",
       "  Small Island Developing States (SIDS)  \n",
       "0                                   NaN  \n",
       "1                                   NaN  \n",
       "2                                   NaN  \n",
       "3                                   NaN  \n",
       "4                                   NaN  "
      ]
     },
     "execution_count": 9,
     "metadata": {},
     "output_type": "execute_result"
    }
   ],
   "source": [
    "#Note, the UN csv is delimited by semi-colons: \";\".\n",
    "m49 = pd.read_csv(\"UNSD-M49-countries-7-22.csv\", sep=\";\")\n",
    "mapper = {\"Country or Area\":\"Country\",\"Region Name\":\"Continent\"}\n",
    "m49.rename(columns=mapper, inplace=True)\n",
    "m49.head()"
   ]
  },
  {
   "cell_type": "code",
   "execution_count": 10,
   "id": "a6e6f52e-cff7-4d78-b630-e71e07fa8842",
   "metadata": {},
   "outputs": [
    {
     "data": {
      "text/plain": [
       "249"
      ]
     },
     "execution_count": 10,
     "metadata": {},
     "output_type": "execute_result"
    }
   ],
   "source": [
    "len(m49)"
   ]
  },
  {
   "cell_type": "markdown",
   "id": "7827cfef-fd4c-4a3c-94ac-b64ba38a9374",
   "metadata": {},
   "source": [
    "## Identifying discrepencies and aligning on what to call countries\n",
    "\n",
    "Knowing that the two data sources come from places with very different ideologies I know I will have to make the final decision as to what names end up in my data set. On top of that, certain places that people understand as countries (Ex. `Taiwan`) are not recognized by the UN at all. What I did was fairly straight forward:\n",
    "1. I checked the overlap and identified how many countries appeared in each list\n",
    "2. I then created a list of the ones that did not appear\n",
    "3. I then determined how to handle discrepencies.\n",
    "    1. If a place needed to be added to the UN list, then it gets added (Ex. Taiwan)\n",
    "    2. If a place needed to be changed in either or both lists, then I update them both \n",
    "    2. I decided against removing territories, regions, etc. to make the list as inclusive as possible given the data at hand and my desire to make it broadly applicable.\n",
    "4. Then I merge the two data frames on the UN Data Set, as it's larger\n",
    "5. I export it to `combined-countries.csv`"
   ]
  },
  {
   "cell_type": "code",
   "execution_count": 11,
   "id": "edaae740-75bf-42a2-afa6-ebbbbf50d792",
   "metadata": {},
   "outputs": [],
   "source": [
    "c1 = list(happy_dedup[\"Country\"])\n",
    "c2 = list(m49[\"Country\"])\n",
    "c3 = [(country, country in c2) for country in c1]\n",
    "c4 = [(country, country in c1) for country in c2]"
   ]
  },
  {
   "cell_type": "code",
   "execution_count": 12,
   "id": "9e591da4-3ece-46f8-ad7b-6aa36357ab97",
   "metadata": {},
   "outputs": [
    {
     "name": "stdout",
     "output_type": "stream",
     "text": [
      "166\n"
     ]
    },
    {
     "data": {
      "text/plain": [
       "[('Zimbabwe', True),\n",
       " ('Benin', True),\n",
       " ('United Kingdom', False),\n",
       " ('Philippines', True),\n",
       " ('Iraq', True),\n",
       " ('Belgium', True),\n",
       " ('Iran', False),\n",
       " ('Poland', True),\n",
       " ('Portugal', True),\n",
       " ('India', True)]"
      ]
     },
     "execution_count": 12,
     "metadata": {},
     "output_type": "execute_result"
    }
   ],
   "source": [
    "print(len(c3))\n",
    "c3[:10]"
   ]
  },
  {
   "cell_type": "code",
   "execution_count": 13,
   "id": "9caa5edc-9b84-43bf-bfc5-ee59b05d4aca",
   "metadata": {},
   "outputs": [
    {
     "name": "stdout",
     "output_type": "stream",
     "text": [
      "249\n"
     ]
    },
    {
     "data": {
      "text/plain": [
       "[('Algeria', True),\n",
       " ('Egypt', True),\n",
       " ('Libya', True),\n",
       " ('Morocco', True),\n",
       " ('Sudan', True),\n",
       " ('Tunisia', True),\n",
       " ('Western Sahara', False),\n",
       " ('British Indian Ocean Territory', False),\n",
       " ('Burundi', True),\n",
       " ('Comoros', True)]"
      ]
     },
     "execution_count": 13,
     "metadata": {},
     "output_type": "execute_result"
    }
   ],
   "source": [
    "print(len(c4))\n",
    "c4[:10]"
   ]
  },
  {
   "cell_type": "code",
   "execution_count": 14,
   "id": "ff74b057-7281-4ab2-82c5-367e949fbbed",
   "metadata": {},
   "outputs": [
    {
     "name": "stdout",
     "output_type": "stream",
     "text": [
      "142\n",
      "24\n",
      "['United Kingdom', 'Iran', 'Hong Kong S.A.R. of China', 'Bolivia', 'Russia', 'Laos', 'Kosovo', 'United States', 'Ivory Coast', 'Czech Republic', 'South Korea', 'Taiwan Province of China', 'Tanzania', 'Turkey', 'Venezuela', 'Moldova', 'Swaziland', 'Palestinian Territories', 'North Cyprus', 'Congo (Brazzaville)', 'Vietnam', 'Congo (Kinshasa)', 'Syria', 'Somaliland region']\n"
     ]
    }
   ],
   "source": [
    "num = 0\n",
    "happy_missing = []\n",
    "for pair in c3:\n",
    "    if pair[1]:\n",
    "        num +=1\n",
    "    else:\n",
    "        happy_missing.append(pair[0])\n",
    "print(num)\n",
    "print(len(happy_missing))\n",
    "print(happy_missing)"
   ]
  },
  {
   "cell_type": "code",
   "execution_count": 15,
   "id": "32c58e45-5ffa-4c69-bb9d-1936e216d6f9",
   "metadata": {},
   "outputs": [
    {
     "name": "stdout",
     "output_type": "stream",
     "text": [
      "142\n",
      "107\n",
      "['Western Sahara', 'British Indian Ocean Territory', 'Eritrea', 'French Southern Territories', 'Mayotte', 'Réunion', 'Seychelles', 'United Republic of Tanzania', 'Congo', 'Democratic Republic of the Congo', 'Equatorial Guinea', 'Sao Tome and Principe', 'Eswatini', 'Cabo Verde', 'Côte d’Ivoire', 'Guinea-Bissau', 'Saint Helena', 'Anguilla', 'Antigua and Barbuda', 'Aruba', 'Bahamas', 'Barbados', 'Bonaire, Sint Eustatius and Saba', 'British Virgin Islands', 'Cayman Islands', 'Curaçao', 'Dominica', 'Grenada', 'Guadeloupe', 'Martinique', 'Montserrat', 'Puerto Rico', 'Saint Barthélemy', 'Saint Kitts and Nevis', 'Saint Lucia', 'Saint Martin (French Part)', 'Saint Vincent and the Grenadines', 'Sint Maarten (Dutch part)', 'Turks and Caicos Islands', 'United States Virgin Islands', 'Bolivia (Plurinational State of)', 'Bouvet Island', 'Falkland Islands (Malvinas)', 'French Guiana', 'South Georgia and the South Sandwich Islands', 'Venezuela (Bolivarian Republic of)', 'Bermuda', 'Greenland', 'Saint Pierre and Miquelon', 'United States of America', 'Antarctica', 'China, Hong Kong Special Administrative Region', 'China, Macao Special Administrative Region', \"Democratic People's Republic of Korea\", 'Republic of Korea', 'Brunei Darussalam', \"Lao People's Democratic Republic\", 'Timor-Leste', 'Viet Nam', 'Iran (Islamic Republic of)', 'State of Palestine', 'Syrian Arab Republic', 'Türkiye', 'Czechia', 'Republic of Moldova', 'Russian Federation', 'Åland Islands', 'Guernsey', 'Jersey', 'Sark', 'Faroe Islands', 'Isle of Man', 'Svalbard and Jan Mayen Islands', 'United Kingdom of Great Britain and Northern Ireland', 'Andorra', 'Gibraltar', 'Holy See', 'San Marino', 'Liechtenstein', 'Monaco', 'Christmas Island', 'Cocos (Keeling) Islands', 'Heard Island and McDonald Islands', 'Norfolk Island', 'Fiji', 'New Caledonia', 'Papua New Guinea', 'Solomon Islands', 'Vanuatu', 'Guam', 'Kiribati', 'Marshall Islands', 'Micronesia (Federated States of)', 'Nauru', 'Northern Mariana Islands', 'Palau', 'United States Minor Outlying Islands', 'American Samoa', 'Cook Islands', 'French Polynesia', 'Niue', 'Pitcairn', 'Samoa', 'Tokelau', 'Tonga', 'Tuvalu', 'Wallis and Futuna Islands']\n"
     ]
    }
   ],
   "source": [
    "num = 0\n",
    "missing = []\n",
    "for pair in c4:\n",
    "    if pair[1]:\n",
    "        num +=1\n",
    "    else:\n",
    "        missing.append(pair[0])\n",
    "print(num)\n",
    "print(len(missing))\n",
    "print(missing)"
   ]
  },
  {
   "cell_type": "code",
   "execution_count": 16,
   "id": "65a7204f-9026-4d72-b6dd-ef056a7050e0",
   "metadata": {},
   "outputs": [],
   "source": [
    "#Copies the dataframe to allow us to modify one and check on the other.\n",
    "m49_clean = m49.copy()\n",
    "m49_simple = m49.copy()"
   ]
  },
  {
   "cell_type": "code",
   "execution_count": 17,
   "id": "1507a1e0-f8b8-4a8e-9f5e-be3929b8cb39",
   "metadata": {},
   "outputs": [],
   "source": [
    "m49_targets = [\"Viet Nam\", \"United States of America\", \"Russian Federation\",  \"Lao People's Democratic Republic\", \"United Kingdom of Great Britain and Northern Ireland\", \"Türkiye\", \"Czechia\", \"United Republic of Tanzania\", \"Côte d’Ivoire\", \"China, Macao Special Administrative Region\", \"China, Hong Kong Special Administrative Region\", \"Iran (Islamic Republic of)\", \"State of Palestine\", \"Syrian Arab Republic\", \"Democratic People's Republic of Korea\", \"Republic of Korea\", \"Micronesia (Federated States of)\", \"Bolivia (Plurinational State of)\", \"Republic of Moldova\", \"Venezuela (Bolivarian Republic of)\"]\n",
    "m49_updates = [\"Vietnam\", \"United States\", \"Russia\", \"Laos\", \"United Kingdom\", \"Turkey\", \"Czech Republic\", \"Tanzania\", \"Ivory Coast\", \"Macao Special Administrative Region\", \"Hong Kong Special Administrative Region\", \"Iran\", \"Palestine\", \"Syria\", \"North Korea\", \"South Korea\", \"Micronesia\", \"Bolivia\", \"Moldova\", \"Venezuela\"]"
   ]
  },
  {
   "cell_type": "code",
   "execution_count": 18,
   "id": "cd0c28f1-823a-4fcc-9145-eaacfbbd0233",
   "metadata": {},
   "outputs": [],
   "source": [
    "m49_simple.replace(m49_targets,m49_updates,inplace=True)"
   ]
  },
  {
   "cell_type": "code",
   "execution_count": 19,
   "id": "a83f6b5a-fc6a-4ace-8345-6274a455af8f",
   "metadata": {},
   "outputs": [],
   "source": [
    "def create_lookup(terms,changes,column,df):\n",
    "    '''This is a simple helper function to take a list of terms and a list of changes.\n",
    "    They have to be of the same length and in the same order.\n",
    "    It turns them into 2 dictionaries with the following key/pairs:\n",
    "    targets: Key = term: Value = index\n",
    "    updates: Key = index: Value = term'''\n",
    "    values = []\n",
    "    for term in terms:\n",
    "        current = df.index[df[column] == term].tolist()\n",
    "        values.append(current[0])\n",
    "    target = dict(zip(terms,values))\n",
    "    updates = dict(zip(values,changes))\n",
    "    return target, updates   "
   ]
  },
  {
   "cell_type": "code",
   "execution_count": 20,
   "id": "86ac5bd2-89ac-4bf5-b132-f1e7af4d5fa7",
   "metadata": {},
   "outputs": [],
   "source": [
    "s,q = create_lookup(m49_targets,m49_updates,\"Country\",m49)"
   ]
  },
  {
   "cell_type": "code",
   "execution_count": 21,
   "id": "9e6141d7-ae3f-4074-9dd3-62a3a945247e",
   "metadata": {},
   "outputs": [
    {
     "name": "stdout",
     "output_type": "stream",
     "text": [
      "Viet Nam --> Vietnam\n",
      "United States of America --> United States\n",
      "Russian Federation --> Russia\n",
      "Lao People's Democratic Republic --> Laos\n",
      "United Kingdom of Great Britain and Northern Ireland --> United Kingdom\n",
      "Türkiye --> Turkey\n",
      "Czechia --> Czech Republic\n",
      "United Republic of Tanzania --> Tanzania\n",
      "Côte d’Ivoire --> Ivory Coast\n",
      "China, Macao Special Administrative Region --> Macao Special Administrative Region\n",
      "China, Hong Kong Special Administrative Region --> Hong Kong Special Administrative Region\n",
      "Iran (Islamic Republic of) --> Iran\n",
      "State of Palestine --> Palestine\n",
      "Syrian Arab Republic --> Syria\n",
      "Democratic People's Republic of Korea --> North Korea\n",
      "Republic of Korea --> South Korea\n",
      "Micronesia (Federated States of) --> Micronesia\n",
      "Bolivia (Plurinational State of) --> Bolivia\n",
      "Republic of Moldova --> Moldova\n",
      "Venezuela (Bolivarian Republic of) --> Venezuela\n"
     ]
    }
   ],
   "source": [
    "#Checking that my code functions as intendend.\n",
    "for k in s:\n",
    "    print(k + \" --> \" + str(q[s[k]]))"
   ]
  },
  {
   "cell_type": "code",
   "execution_count": 22,
   "id": "6647991f-36e1-42fe-a1b5-d79c1583f135",
   "metadata": {},
   "outputs": [],
   "source": [
    "#Gets the index of the value from m49 to put it in m49_clean\n",
    "x = m49.index[m49['Country'] == \"Viet Nam\"].tolist()"
   ]
  },
  {
   "cell_type": "code",
   "execution_count": 23,
   "id": "2b7c90b7-49d7-411c-b4df-d2668840caa6",
   "metadata": {},
   "outputs": [
    {
     "data": {
      "text/plain": [
       "[140]"
      ]
     },
     "execution_count": 23,
     "metadata": {},
     "output_type": "execute_result"
    }
   ],
   "source": [
    "m49_clean.loc[x[0],'Country'] = \"Vietnam\"\n",
    "y = m49_clean.index[m49_clean['Country'] == \"Vietnam\"].tolist()\n",
    "y"
   ]
  },
  {
   "cell_type": "code",
   "execution_count": 24,
   "id": "85b5705f-09a3-4ef6-a51c-d5c32a78c4df",
   "metadata": {},
   "outputs": [],
   "source": [
    "def update_names(targets,changes,column,target_df):\n",
    "    '''This helper function uses the dictionaries created in create_lookup to \n",
    "    update the dataframe at scale.'''\n",
    "    for t in targets:\n",
    "        target_df.at[targets[t],column] = changes[targets[t]]\n",
    "    return target_df"
   ]
  },
  {
   "cell_type": "code",
   "execution_count": 25,
   "id": "a21dc8f8-19d0-48b0-b6f1-54df225545e8",
   "metadata": {},
   "outputs": [],
   "source": [
    "m49_clean = update_names(s,q,'Country',m49_clean)"
   ]
  },
  {
   "cell_type": "code",
   "execution_count": 26,
   "id": "4d00dcb6-8337-434a-bc6a-fd5a8672d4c0",
   "metadata": {},
   "outputs": [],
   "source": [
    "def check_presence(df1,df2,column,first=True):\n",
    "    c1 = list(df1[column])\n",
    "    c2 = list(df2[column])\n",
    "    c3 = [(entry, entry in c2) for entry in c1]\n",
    "    c4 = [(entry, entry in c1) for entry in c2]\n",
    "    num = 0\n",
    "    missing = []\n",
    "    if first:\n",
    "        for pair in c3:\n",
    "            if pair[1]:\n",
    "                num +=1\n",
    "            else:\n",
    "                missing.append(pair[0])\n",
    "    else:\n",
    "        for pair in c4:\n",
    "            if pair[1]:\n",
    "                num +=1\n",
    "            else:\n",
    "                missing.append(pair[0])\n",
    "    print(num)\n",
    "    print(len(missing))\n",
    "    return missing"
   ]
  },
  {
   "cell_type": "code",
   "execution_count": 27,
   "id": "19626415-91dd-426d-86a9-5045af88b847",
   "metadata": {},
   "outputs": [
    {
     "name": "stdout",
     "output_type": "stream",
     "text": [
      "157\n",
      "9\n"
     ]
    },
    {
     "data": {
      "text/plain": [
       "['Hong Kong S.A.R. of China',\n",
       " 'Kosovo',\n",
       " 'Taiwan Province of China',\n",
       " 'Swaziland',\n",
       " 'Palestinian Territories',\n",
       " 'North Cyprus',\n",
       " 'Congo (Brazzaville)',\n",
       " 'Congo (Kinshasa)',\n",
       " 'Somaliland region']"
      ]
     },
     "execution_count": 27,
     "metadata": {},
     "output_type": "execute_result"
    }
   ],
   "source": [
    "check_presence(happy_dedup,m49_clean,\"Country\")"
   ]
  },
  {
   "cell_type": "code",
   "execution_count": 28,
   "id": "06a3a234-6b6b-427c-b2de-07d84db0fe33",
   "metadata": {},
   "outputs": [
    {
     "data": {
      "text/plain": [
       "True"
      ]
     },
     "execution_count": 28,
     "metadata": {},
     "output_type": "execute_result"
    }
   ],
   "source": [
    "m49_clean.equals(m49_simple)"
   ]
  },
  {
   "cell_type": "code",
   "execution_count": 29,
   "id": "ce6bc305-c670-427c-bfcf-892867f5ca1d",
   "metadata": {},
   "outputs": [],
   "source": [
    "happy_updates = [\"Hong Kong S.A.R. of China\", \"Congo (Brazzaville)\", \"Congo (Kinshasa)\", \"Palestinian Territories\", \"Taiwan Province of China\", \"Swaziland\"]\n",
    "happy_changes = [\"Hong Kong Special Administrative Region\", \"Congo\",\"Democratic Republic of the Congo\", \"Palestine\", \"Taiwan\", \"Eswatini\"]"
   ]
  },
  {
   "cell_type": "code",
   "execution_count": 30,
   "id": "e62595d5-17b5-4b86-8ee1-38798fc88212",
   "metadata": {},
   "outputs": [
    {
     "name": "stdout",
     "output_type": "stream",
     "text": [
      "True\n"
     ]
    }
   ],
   "source": [
    "print(len(happy_updates)==len(happy_changes))"
   ]
  },
  {
   "cell_type": "code",
   "execution_count": 31,
   "id": "4120d892-c445-4bfd-92dc-8b015d40ef4f",
   "metadata": {},
   "outputs": [],
   "source": [
    "happy_clean = happy_dedup.copy()"
   ]
  },
  {
   "cell_type": "code",
   "execution_count": 32,
   "id": "fdb16bab-e6ec-4e10-8d04-33f81a3739ef",
   "metadata": {},
   "outputs": [],
   "source": [
    "h_targets,h_changes = create_lookup(happy_updates,happy_changes,'Country',happy_dedup)\n",
    "happy_clean = update_names(h_targets,h_changes,'Country',happy_clean)"
   ]
  },
  {
   "cell_type": "code",
   "execution_count": 33,
   "id": "cdd593da-f6bc-4333-9a16-a29dbe4551c7",
   "metadata": {},
   "outputs": [
    {
     "name": "stdout",
     "output_type": "stream",
     "text": [
      "Hong Kong S.A.R. of China --> Hong Kong Special Administrative Region\n",
      "Congo (Brazzaville) --> Congo\n",
      "Congo (Kinshasa) --> Democratic Republic of the Congo\n",
      "Palestinian Territories --> Palestine\n",
      "Taiwan Province of China --> Taiwan\n",
      "Swaziland --> Eswatini\n"
     ]
    }
   ],
   "source": [
    "#Checking that my code functions as intendend.\n",
    "for k in h_targets:\n",
    "    print(k + \" --> \" + str(h_changes[h_targets[k]]))"
   ]
  },
  {
   "cell_type": "code",
   "execution_count": 34,
   "id": "8e00400a-8e41-4a2f-aaef-ecd33d45b3a2",
   "metadata": {},
   "outputs": [
    {
     "name": "stdout",
     "output_type": "stream",
     "text": [
      "162\n",
      "4\n"
     ]
    },
    {
     "data": {
      "text/plain": [
       "['Kosovo', 'Taiwan', 'North Cyprus', 'Somaliland region']"
      ]
     },
     "execution_count": 34,
     "metadata": {},
     "output_type": "execute_result"
    }
   ],
   "source": [
    "missing = check_presence(happy_clean,m49_clean,\"Country\")\n",
    "missing"
   ]
  },
  {
   "cell_type": "code",
   "execution_count": 35,
   "id": "38fc52a2-94eb-49ac-9bbb-817adde11111",
   "metadata": {},
   "outputs": [
    {
     "data": {
      "text/plain": [
       "Index(['Global Code', 'Global Name', 'Region Code', 'Continent',\n",
       "       'Sub-region Code', 'Sub-region Name', 'Intermediate Region Code',\n",
       "       'Intermediate Region Name', 'Country', 'M49 Code', 'ISO-alpha2 Code',\n",
       "       'ISO-alpha3 Code', 'Least Developed Countries (LDC)',\n",
       "       'Land Locked Developing Countries (LLDC)',\n",
       "       'Small Island Developing States (SIDS)'],\n",
       "      dtype='object')"
      ]
     },
     "execution_count": 35,
     "metadata": {},
     "output_type": "execute_result"
    }
   ],
   "source": [
    "m49.columns"
   ]
  },
  {
   "cell_type": "code",
   "execution_count": 36,
   "id": "5dafec76-44bf-4ee9-bc83-b8cfc0cea9b7",
   "metadata": {},
   "outputs": [
    {
     "name": "stderr",
     "output_type": "stream",
     "text": [
      "/var/folders/lx/xt9qnk8569n7xy_d7knh3npr0000gp/T/ipykernel_82206/3391363385.py:6: FutureWarning: The frame.append method is deprecated and will be removed from pandas in a future version. Use pandas.concat instead.\n",
      "  m49_clean = m49_clean.append(current, ignore_index=True)\n",
      "/var/folders/lx/xt9qnk8569n7xy_d7knh3npr0000gp/T/ipykernel_82206/3391363385.py:6: FutureWarning: The frame.append method is deprecated and will be removed from pandas in a future version. Use pandas.concat instead.\n",
      "  m49_clean = m49_clean.append(current, ignore_index=True)\n",
      "/var/folders/lx/xt9qnk8569n7xy_d7knh3npr0000gp/T/ipykernel_82206/3391363385.py:6: FutureWarning: The frame.append method is deprecated and will be removed from pandas in a future version. Use pandas.concat instead.\n",
      "  m49_clean = m49_clean.append(current, ignore_index=True)\n",
      "/var/folders/lx/xt9qnk8569n7xy_d7knh3npr0000gp/T/ipykernel_82206/3391363385.py:6: FutureWarning: The frame.append method is deprecated and will be removed from pandas in a future version. Use pandas.concat instead.\n",
      "  m49_clean = m49_clean.append(current, ignore_index=True)\n"
     ]
    }
   ],
   "source": [
    "missing = ['Kosovo', 'Taiwan', 'North Cyprus', 'Somaliland region']\n",
    "m_continents = ['Europe', 'Asia', 'Europe','Africa']\n",
    "idx = 0\n",
    "for x in missing:\n",
    "    current = pd.Series([None,None,None,m_continents[idx],None,None,None,None,x,None,None,None,None,None,None], index=m49.columns)\n",
    "    m49_clean = m49_clean.append(current, ignore_index=True)\n",
    "    idx += 1"
   ]
  },
  {
   "cell_type": "code",
   "execution_count": 51,
   "id": "01454c66-a96e-4eed-bfe6-2ead4764711e",
   "metadata": {},
   "outputs": [],
   "source": [
    "#I choose to remove the parenthetical elements because I believe people are less likely to include them in natural language, and they will impact the generation of counterfactuals.\n",
    "m49_clean.replace(\"\\(.*\\)\",value=\"\",regex=True,inplace=True)"
   ]
  },
  {
   "cell_type": "code",
   "execution_count": 44,
   "id": "09cd191d-fbad-415a-b598-724b6ca6c7d6",
   "metadata": {},
   "outputs": [
    {
     "name": "stdout",
     "output_type": "stream",
     "text": [
      "['Algeria' 'Egypt' 'Libya' 'Morocco' 'Sudan' 'Tunisia' 'Western Sahara'\n",
      " 'British Indian Ocean Territory' 'Burundi' 'Comoros' 'Djibouti' 'Eritrea'\n",
      " 'Ethiopia' 'French Southern Territories' 'Kenya' 'Madagascar' 'Malawi'\n",
      " 'Mauritius' 'Mayotte' 'Mozambique' 'Réunion' 'Rwanda' 'Seychelles'\n",
      " 'Somalia' 'South Sudan' 'Uganda' 'Tanzania' 'Zambia' 'Zimbabwe' 'Angola'\n",
      " 'Cameroon' 'Central African Republic' 'Chad' 'Congo'\n",
      " 'Democratic Republic of the Congo' 'Equatorial Guinea' 'Gabon'\n",
      " 'Sao Tome and Principe' 'Botswana' 'Eswatini' 'Lesotho' 'Namibia'\n",
      " 'South Africa' 'Benin' 'Burkina Faso' 'Cabo Verde' 'Ivory Coast' 'Gambia'\n",
      " 'Ghana' 'Guinea' 'Guinea-Bissau' 'Liberia' 'Mali' 'Mauritania' 'Niger'\n",
      " 'Nigeria' 'Saint Helena' 'Senegal' 'Sierra Leone' 'Togo' 'Anguilla'\n",
      " 'Antigua and Barbuda' 'Aruba' 'Bahamas' 'Barbados'\n",
      " 'Bonaire, Sint Eustatius and Saba' 'British Virgin Islands'\n",
      " 'Cayman Islands' 'Cuba' 'Curaçao' 'Dominica' 'Dominican Republic'\n",
      " 'Grenada' 'Guadeloupe' 'Haiti' 'Jamaica' 'Martinique' 'Montserrat'\n",
      " 'Puerto Rico' 'Saint Barthélemy' 'Saint Kitts and Nevis' 'Saint Lucia'\n",
      " 'Saint Martin ' 'Saint Vincent and the Grenadines' 'Sint Maarten '\n",
      " 'Trinidad and Tobago' 'Turks and Caicos Islands'\n",
      " 'United States Virgin Islands' 'Belize' 'Costa Rica' 'El Salvador'\n",
      " 'Guatemala' 'Honduras' 'Mexico' 'Nicaragua' 'Panama' 'Argentina'\n",
      " 'Bolivia' 'Bouvet Island' 'Brazil' 'Chile' 'Colombia' 'Ecuador'\n",
      " 'Falkland Islands ' 'French Guiana' 'Guyana' 'Paraguay' 'Peru'\n",
      " 'South Georgia and the South Sandwich Islands' 'Suriname' 'Uruguay'\n",
      " 'Venezuela' 'Bermuda' 'Canada' 'Greenland' 'Saint Pierre and Miquelon'\n",
      " 'United States' 'Antarctica' 'Kazakhstan' 'Kyrgyzstan' 'Tajikistan'\n",
      " 'Turkmenistan' 'Uzbekistan' 'China'\n",
      " 'Hong Kong Special Administrative Region'\n",
      " 'Macao Special Administrative Region' 'North Korea' 'Japan' 'Mongolia'\n",
      " 'South Korea' 'Brunei Darussalam' 'Cambodia' 'Indonesia' 'Laos'\n",
      " 'Malaysia' 'Myanmar' 'Philippines' 'Singapore' 'Thailand' 'Timor-Leste'\n",
      " 'Vietnam' 'Afghanistan' 'Bangladesh' 'Bhutan' 'India' 'Iran' 'Maldives'\n",
      " 'Nepal' 'Pakistan' 'Sri Lanka' 'Armenia' 'Azerbaijan' 'Bahrain' 'Cyprus'\n",
      " 'Georgia' 'Iraq' 'Israel' 'Jordan' 'Kuwait' 'Lebanon' 'Oman' 'Qatar'\n",
      " 'Saudi Arabia' 'Palestine' 'Syria' 'Turkey' 'United Arab Emirates'\n",
      " 'Yemen' 'Belarus' 'Bulgaria' 'Czech Republic' 'Hungary' 'Poland'\n",
      " 'Moldova' 'Romania' 'Russia' 'Slovakia' 'Ukraine' 'Åland Islands'\n",
      " 'Guernsey' 'Jersey' 'Sark' 'Denmark' 'Estonia' 'Faroe Islands' 'Finland'\n",
      " 'Iceland' 'Ireland' 'Isle of Man' 'Latvia' 'Lithuania' 'Norway'\n",
      " 'Svalbard and Jan Mayen Islands' 'Sweden' 'United Kingdom' 'Albania'\n",
      " 'Andorra' 'Bosnia and Herzegovina' 'Croatia' 'Gibraltar' 'Greece'\n",
      " 'Holy See' 'Italy' 'Malta' 'Montenegro' 'North Macedonia' 'Portugal'\n",
      " 'San Marino' 'Serbia' 'Slovenia' 'Spain' 'Austria' 'Belgium' 'France'\n",
      " 'Germany' 'Liechtenstein' 'Luxembourg' 'Monaco' 'Netherlands'\n",
      " 'Switzerland' 'Australia' 'Christmas Island' 'Cocos  Islands'\n",
      " 'Heard Island and McDonald Islands' 'New Zealand' 'Norfolk Island' 'Fiji'\n",
      " 'New Caledonia' 'Papua New Guinea' 'Solomon Islands' 'Vanuatu' 'Guam'\n",
      " 'Kiribati' 'Marshall Islands' 'Micronesia' 'Nauru'\n",
      " 'Northern Mariana Islands' 'Palau' 'United States Minor Outlying Islands'\n",
      " 'American Samoa' 'Cook Islands' 'French Polynesia' 'Niue' 'Pitcairn'\n",
      " 'Samoa' 'Tokelau' 'Tonga' 'Tuvalu' 'Wallis and Futuna Islands' 'Kosovo'\n",
      " 'Taiwan' 'North Cyprus' 'Somaliland region']\n"
     ]
    }
   ],
   "source": [
    "print(m49_clean.Country.unique())"
   ]
  },
  {
   "cell_type": "code",
   "execution_count": 45,
   "id": "b1fcd392-abfb-42a8-8485-f3fbd6a155d1",
   "metadata": {},
   "outputs": [],
   "source": [
    "combo = m49_clean.set_index('Country').join(happy_clean.set_index('Country'), on='Country', how='left')"
   ]
  },
  {
   "cell_type": "code",
   "execution_count": 46,
   "id": "55ec121c-534e-4e25-88e9-5ab8267fd66b",
   "metadata": {},
   "outputs": [],
   "source": [
    "combo = combo.reset_index()"
   ]
  },
  {
   "cell_type": "code",
   "execution_count": 47,
   "id": "6734594e-0ffe-4de6-98d8-b200d0d006ef",
   "metadata": {},
   "outputs": [],
   "source": [
    "combo = combo.drop_duplicates(subset=['Country'])"
   ]
  },
  {
   "cell_type": "code",
   "execution_count": 48,
   "id": "8ddaf798-772d-489d-b2fc-32d4cd76ae50",
   "metadata": {},
   "outputs": [
    {
     "data": {
      "text/plain": [
       "253"
      ]
     },
     "execution_count": 48,
     "metadata": {},
     "output_type": "execute_result"
    }
   ],
   "source": [
    "len(combo)"
   ]
  },
  {
   "cell_type": "code",
   "execution_count": 49,
   "id": "7420265a-e079-443c-9be0-01becf73a836",
   "metadata": {},
   "outputs": [
    {
     "data": {
      "text/html": [
       "<div>\n",
       "<style scoped>\n",
       "    .dataframe tbody tr th:only-of-type {\n",
       "        vertical-align: middle;\n",
       "    }\n",
       "\n",
       "    .dataframe tbody tr th {\n",
       "        vertical-align: top;\n",
       "    }\n",
       "\n",
       "    .dataframe thead th {\n",
       "        text-align: right;\n",
       "    }\n",
       "</style>\n",
       "<table border=\"1\" class=\"dataframe\">\n",
       "  <thead>\n",
       "    <tr style=\"text-align: right;\">\n",
       "      <th></th>\n",
       "      <th>Country</th>\n",
       "      <th>Global Code</th>\n",
       "      <th>Global Name</th>\n",
       "      <th>Region Code</th>\n",
       "      <th>Continent</th>\n",
       "      <th>Sub-region Code</th>\n",
       "      <th>Sub-region Name</th>\n",
       "      <th>Intermediate Region Code</th>\n",
       "      <th>Intermediate Region Name</th>\n",
       "      <th>M49 Code</th>\n",
       "      <th>...</th>\n",
       "      <th>year</th>\n",
       "      <th>Life Ladder</th>\n",
       "      <th>Log GDP per capita</th>\n",
       "      <th>Social support</th>\n",
       "      <th>Healthy life expectancy at birth</th>\n",
       "      <th>Freedom to make life choices</th>\n",
       "      <th>Generosity</th>\n",
       "      <th>Perceptions of corruption</th>\n",
       "      <th>Positive affect</th>\n",
       "      <th>Negative affect</th>\n",
       "    </tr>\n",
       "  </thead>\n",
       "  <tbody>\n",
       "    <tr>\n",
       "      <th>0</th>\n",
       "      <td>Algeria</td>\n",
       "      <td>1.0</td>\n",
       "      <td>World</td>\n",
       "      <td>2.0</td>\n",
       "      <td>Africa</td>\n",
       "      <td>15.0</td>\n",
       "      <td>Northern Africa</td>\n",
       "      <td>NaN</td>\n",
       "      <td>NaN</td>\n",
       "      <td>12.0</td>\n",
       "      <td>...</td>\n",
       "      <td>2019.0</td>\n",
       "      <td>4.744627</td>\n",
       "      <td>9.336946</td>\n",
       "      <td>0.803259</td>\n",
       "      <td>66.099998</td>\n",
       "      <td>0.385083</td>\n",
       "      <td>0.005087</td>\n",
       "      <td>0.740609</td>\n",
       "      <td>0.584944</td>\n",
       "      <td>0.215198</td>\n",
       "    </tr>\n",
       "    <tr>\n",
       "      <th>1</th>\n",
       "      <td>Egypt</td>\n",
       "      <td>1.0</td>\n",
       "      <td>World</td>\n",
       "      <td>2.0</td>\n",
       "      <td>Africa</td>\n",
       "      <td>15.0</td>\n",
       "      <td>Northern Africa</td>\n",
       "      <td>NaN</td>\n",
       "      <td>NaN</td>\n",
       "      <td>818.0</td>\n",
       "      <td>...</td>\n",
       "      <td>2020.0</td>\n",
       "      <td>4.472397</td>\n",
       "      <td>9.382727</td>\n",
       "      <td>0.672725</td>\n",
       "      <td>62.299999</td>\n",
       "      <td>0.769550</td>\n",
       "      <td>-0.112342</td>\n",
       "      <td>NaN</td>\n",
       "      <td>0.598909</td>\n",
       "      <td>0.442034</td>\n",
       "    </tr>\n",
       "    <tr>\n",
       "      <th>2</th>\n",
       "      <td>Libya</td>\n",
       "      <td>1.0</td>\n",
       "      <td>World</td>\n",
       "      <td>2.0</td>\n",
       "      <td>Africa</td>\n",
       "      <td>15.0</td>\n",
       "      <td>Northern Africa</td>\n",
       "      <td>NaN</td>\n",
       "      <td>NaN</td>\n",
       "      <td>434.0</td>\n",
       "      <td>...</td>\n",
       "      <td>2019.0</td>\n",
       "      <td>5.330222</td>\n",
       "      <td>9.627350</td>\n",
       "      <td>0.826719</td>\n",
       "      <td>62.299999</td>\n",
       "      <td>0.761964</td>\n",
       "      <td>-0.072673</td>\n",
       "      <td>0.686413</td>\n",
       "      <td>0.708741</td>\n",
       "      <td>0.400737</td>\n",
       "    </tr>\n",
       "    <tr>\n",
       "      <th>3</th>\n",
       "      <td>Morocco</td>\n",
       "      <td>1.0</td>\n",
       "      <td>World</td>\n",
       "      <td>2.0</td>\n",
       "      <td>Africa</td>\n",
       "      <td>15.0</td>\n",
       "      <td>Northern Africa</td>\n",
       "      <td>NaN</td>\n",
       "      <td>NaN</td>\n",
       "      <td>504.0</td>\n",
       "      <td>...</td>\n",
       "      <td>2020.0</td>\n",
       "      <td>4.802618</td>\n",
       "      <td>8.870917</td>\n",
       "      <td>0.552520</td>\n",
       "      <td>66.500000</td>\n",
       "      <td>0.818995</td>\n",
       "      <td>-0.228578</td>\n",
       "      <td>0.802740</td>\n",
       "      <td>0.587182</td>\n",
       "      <td>0.256431</td>\n",
       "    </tr>\n",
       "    <tr>\n",
       "      <th>4</th>\n",
       "      <td>Sudan</td>\n",
       "      <td>1.0</td>\n",
       "      <td>World</td>\n",
       "      <td>2.0</td>\n",
       "      <td>Africa</td>\n",
       "      <td>15.0</td>\n",
       "      <td>Northern Africa</td>\n",
       "      <td>NaN</td>\n",
       "      <td>NaN</td>\n",
       "      <td>729.0</td>\n",
       "      <td>...</td>\n",
       "      <td>2014.0</td>\n",
       "      <td>4.138673</td>\n",
       "      <td>8.317068</td>\n",
       "      <td>0.810616</td>\n",
       "      <td>55.119999</td>\n",
       "      <td>0.390096</td>\n",
       "      <td>-0.063395</td>\n",
       "      <td>0.793785</td>\n",
       "      <td>0.540845</td>\n",
       "      <td>0.302725</td>\n",
       "    </tr>\n",
       "  </tbody>\n",
       "</table>\n",
       "<p>5 rows × 25 columns</p>\n",
       "</div>"
      ],
      "text/plain": [
       "   Country  Global Code Global Name  Region Code Continent  Sub-region Code  \\\n",
       "0  Algeria          1.0       World          2.0    Africa             15.0   \n",
       "1    Egypt          1.0       World          2.0    Africa             15.0   \n",
       "2    Libya          1.0       World          2.0    Africa             15.0   \n",
       "3  Morocco          1.0       World          2.0    Africa             15.0   \n",
       "4    Sudan          1.0       World          2.0    Africa             15.0   \n",
       "\n",
       "   Sub-region Name  Intermediate Region Code Intermediate Region Name  \\\n",
       "0  Northern Africa                       NaN                      NaN   \n",
       "1  Northern Africa                       NaN                      NaN   \n",
       "2  Northern Africa                       NaN                      NaN   \n",
       "3  Northern Africa                       NaN                      NaN   \n",
       "4  Northern Africa                       NaN                      NaN   \n",
       "\n",
       "   M49 Code  ...    year Life Ladder Log GDP per capita Social support  \\\n",
       "0      12.0  ...  2019.0    4.744627           9.336946       0.803259   \n",
       "1     818.0  ...  2020.0    4.472397           9.382727       0.672725   \n",
       "2     434.0  ...  2019.0    5.330222           9.627350       0.826719   \n",
       "3     504.0  ...  2020.0    4.802618           8.870917       0.552520   \n",
       "4     729.0  ...  2014.0    4.138673           8.317068       0.810616   \n",
       "\n",
       "  Healthy life expectancy at birth  Freedom to make life choices  Generosity  \\\n",
       "0                        66.099998                      0.385083    0.005087   \n",
       "1                        62.299999                      0.769550   -0.112342   \n",
       "2                        62.299999                      0.761964   -0.072673   \n",
       "3                        66.500000                      0.818995   -0.228578   \n",
       "4                        55.119999                      0.390096   -0.063395   \n",
       "\n",
       "   Perceptions of corruption  Positive affect  Negative affect  \n",
       "0                   0.740609         0.584944         0.215198  \n",
       "1                        NaN         0.598909         0.442034  \n",
       "2                   0.686413         0.708741         0.400737  \n",
       "3                   0.802740         0.587182         0.256431  \n",
       "4                   0.793785         0.540845         0.302725  \n",
       "\n",
       "[5 rows x 25 columns]"
      ]
     },
     "execution_count": 49,
     "metadata": {},
     "output_type": "execute_result"
    }
   ],
   "source": [
    "combo.head()"
   ]
  },
  {
   "cell_type": "code",
   "execution_count": 50,
   "id": "d9179165-b1ea-405c-8fe9-89b3b5be697b",
   "metadata": {},
   "outputs": [],
   "source": [
    "combo.to_csv(\"combined-countries.csv\", index=False)"
   ]
  },
  {
   "cell_type": "code",
   "execution_count": null,
   "id": "7f61ac65-2505-4fb4-b8f1-e9b05fb9bac8",
   "metadata": {},
   "outputs": [],
   "source": []
  }
 ],
 "metadata": {
  "kernelspec": {
   "display_name": "Python 3 (ipykernel)",
   "language": "python",
   "name": "python3"
  },
  "language_info": {
   "codemirror_mode": {
    "name": "ipython",
    "version": 3
   },
   "file_extension": ".py",
   "mimetype": "text/x-python",
   "name": "python",
   "nbconvert_exporter": "python",
   "pygments_lexer": "ipython3",
   "version": "3.8.8"
  }
 },
 "nbformat": 4,
 "nbformat_minor": 5
}
